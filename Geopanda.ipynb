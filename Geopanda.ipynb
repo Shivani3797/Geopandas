{
 "cells": [
  {
   "cell_type": "code",
   "execution_count": 1,
   "metadata": {},
   "outputs": [
    {
     "name": "stdout",
     "output_type": "stream",
     "text": [
      "Collecting package metadata (current_repodata.json): ...working... done\n",
      "Solving environment: ...working... done\n",
      "\n",
      "## Package Plan ##\n",
      "\n",
      "  environment location: D:\\Users\\ADMIN\\anaconda3\\envs\\geo_env\n",
      "\n",
      "  added / updated specs:\n",
      "    - geopandas\n",
      "\n",
      "\n",
      "The following packages will be downloaded:\n",
      "\n",
      "    package                    |            build\n",
      "    ---------------------------|-----------------\n",
      "    certifi-2021.10.8          |  py310h5588dad_2         146 KB  conda-forge\n",
      "    ------------------------------------------------------------\n",
      "                                           Total:         146 KB\n",
      "\n",
      "The following packages will be UPDATED:\n",
      "\n",
      "  certifi                         2021.10.8-py310h5588dad_1 --> 2021.10.8-py310h5588dad_2\n",
      "\n",
      "\n",
      "\n",
      "Downloading and Extracting Packages\n",
      "\n",
      "certifi-2021.10.8    | 146 KB    |            |   0% \n",
      "certifi-2021.10.8    | 146 KB    | #          |  11% \n",
      "certifi-2021.10.8    | 146 KB    | ########## | 100% \n",
      "Preparing transaction: ...working... done\n",
      "Verifying transaction: ...working... done\n",
      "Executing transaction: ...working... done\n",
      "\n",
      "Note: you may need to restart the kernel to use updated packages.\n"
     ]
    },
    {
     "name": "stderr",
     "output_type": "stream",
     "text": [
      "\n",
      "\n",
      "==> WARNING: A newer version of conda exists. <==\n",
      "  current version: 4.10.3\n",
      "  latest version: 4.12.0\n",
      "\n",
      "Please update conda by running\n",
      "\n",
      "    $ conda update -n base -c defaults conda\n",
      "\n",
      "\n"
     ]
    }
   ],
   "source": [
    "conda install geopandas"
   ]
  },
  {
   "cell_type": "code",
   "execution_count": 3,
   "metadata": {},
   "outputs": [
    {
     "name": "stdout",
     "output_type": "stream",
     "text": [
      "Collecting package metadata (current_repodata.json): ...working... done\n",
      "Solving environment: ...working... done\n",
      "\n",
      "# All requested packages already installed.\n",
      "\n",
      "\n",
      "Note: you may need to restart the kernel to use updated packages.\n"
     ]
    },
    {
     "name": "stderr",
     "output_type": "stream",
     "text": [
      "\n",
      "\n",
      "==> WARNING: A newer version of conda exists. <==\n",
      "  current version: 4.10.3\n",
      "  latest version: 4.12.0\n",
      "\n",
      "Please update conda by running\n",
      "\n",
      "    $ conda update -n base -c defaults conda\n",
      "\n",
      "\n"
     ]
    }
   ],
   "source": [
    "conda install numpy"
   ]
  },
  {
   "cell_type": "code",
   "execution_count": 4,
   "metadata": {},
   "outputs": [
    {
     "name": "stdout",
     "output_type": "stream",
     "text": [
      "Collecting package metadata (current_repodata.json): ...working... done\n",
      "Solving environment: ...working... done\n",
      "\n",
      "## Package Plan ##\n",
      "\n",
      "  environment location: D:\\Users\\ADMIN\\anaconda3\\envs\\geo_env\n",
      "\n",
      "  added / updated specs:\n",
      "    - matplotlib\n",
      "\n",
      "\n",
      "The following packages will be downloaded:\n",
      "\n",
      "    package                    |            build\n",
      "    ---------------------------|-----------------\n",
      "    matplotlib-3.5.1           |  py310h5588dad_0           7 KB  conda-forge\n",
      "    ------------------------------------------------------------\n",
      "                                           Total:           7 KB\n",
      "\n",
      "The following NEW packages will be INSTALLED:\n",
      "\n",
      "  matplotlib         conda-forge/win-64::matplotlib-3.5.1-py310h5588dad_0\n",
      "\n",
      "\n",
      "\n",
      "Downloading and Extracting Packages\n",
      "\n",
      "matplotlib-3.5.1     | 7 KB      |            |   0% \n",
      "matplotlib-3.5.1     | 7 KB      | ########## | 100% \n",
      "matplotlib-3.5.1     | 7 KB      | ########## | 100% \n",
      "Preparing transaction: ...working... done\n",
      "Verifying transaction: ...working... done\n",
      "Executing transaction: ...working... done\n",
      "\n",
      "Note: you may need to restart the kernel to use updated packages.\n"
     ]
    },
    {
     "name": "stderr",
     "output_type": "stream",
     "text": [
      "\n",
      "\n",
      "==> WARNING: A newer version of conda exists. <==\n",
      "  current version: 4.10.3\n",
      "  latest version: 4.12.0\n",
      "\n",
      "Please update conda by running\n",
      "\n",
      "    $ conda update -n base -c defaults conda\n",
      "\n",
      "\n"
     ]
    }
   ],
   "source": [
    "conda install matplotlib"
   ]
  },
  {
   "cell_type": "code",
   "execution_count": 7,
   "metadata": {},
   "outputs": [
    {
     "name": "stdout",
     "output_type": "stream",
     "text": [
      "Collecting package metadata (current_repodata.json): ...working... done\n",
      "Solving environment: ...working... done\n",
      "\n",
      "# All requested packages already installed.\n",
      "\n",
      "\n",
      "Note: you may need to restart the kernel to use updated packages.\n"
     ]
    },
    {
     "name": "stderr",
     "output_type": "stream",
     "text": [
      "\n",
      "\n",
      "==> WARNING: A newer version of conda exists. <==\n",
      "  current version: 4.10.3\n",
      "  latest version: 4.12.0\n",
      "\n",
      "Please update conda by running\n",
      "\n",
      "    $ conda update -n base -c defaults conda\n",
      "\n",
      "\n"
     ]
    }
   ],
   "source": [
    "conda install shapely"
   ]
  },
  {
   "cell_type": "markdown",
   "metadata": {},
   "source": [
    "# Displaying Geodataframe Plot"
   ]
  },
  {
   "cell_type": "code",
   "execution_count": 12,
   "metadata": {},
   "outputs": [
    {
     "data": {
      "text/plain": [
       "<AxesSubplot:>"
      ]
     },
     "execution_count": 12,
     "metadata": {},
     "output_type": "execute_result"
    },
    {
     "data": {
      "image/png": "[encoded data removed]",
      "text/plain": [
       "<Figure size 432x288 with 1 Axes>"
      ]
     },
     "metadata": {
      "needs_background": "light"
     },
     "output_type": "display_data"
    }
   ],
   "source": [
    "#import libraries\n",
    "import geopandas as gpd\n",
    "\n",
    "#read a file\n",
    "gdf=gpd.read_file(\"C:\\\\Users\\\\ADMIN\\\\Desktop\\\\ARC GIS 2\\\\Lab 2 - Map manipulation\\\\Data\\\\Akole_roads.shp\")\n",
    "\n",
    "#Display the geodataframe\n",
    "gdf\n",
    "\n",
    "#plot geodataframe\n",
    "gdf.plot()\n"
   ]
  },
  {
   "cell_type": "markdown",
   "metadata": {},
   "source": [
    "# Displaying Geodatframe"
   ]
  },
  {
   "cell_type": "code",
   "execution_count": 19,
   "metadata": {},
   "outputs": [
    {
     "data": {
      "text/html": [
       "<div>\n",
       "<style scoped>\n",
       "    .dataframe tbody tr th:only-of-type {\n",
       "        vertical-align: middle;\n",
       "    }\n",
       "\n",
       "    .dataframe tbody tr th {\n",
       "        vertical-align: top;\n",
       "    }\n",
       "\n",
       "    .dataframe thead th {\n",
       "        text-align: right;\n",
       "    }\n",
       "</style>\n",
       "<table border=\"1\" class=\"dataframe\">\n",
       "  <thead>\n",
       "    <tr style=\"text-align: right;\">\n",
       "      <th></th>\n",
       "      <th>Id</th>\n",
       "      <th>geometry</th>\n",
       "    </tr>\n",
       "  </thead>\n",
       "  <tbody>\n",
       "    <tr>\n",
       "      <th>0</th>\n",
       "      <td>0</td>\n",
       "      <td>MULTILINESTRING ((399023.854 2160213.443, 3984...</td>\n",
       "    </tr>\n",
       "    <tr>\n",
       "      <th>1</th>\n",
       "      <td>0</td>\n",
       "      <td>MULTILINESTRING ((395872.926 2160928.195, 3966...</td>\n",
       "    </tr>\n",
       "    <tr>\n",
       "      <th>2</th>\n",
       "      <td>0</td>\n",
       "      <td>LINESTRING (399693.507 2167447.301, 400279.733...</td>\n",
       "    </tr>\n",
       "    <tr>\n",
       "      <th>3</th>\n",
       "      <td>0</td>\n",
       "      <td>LINESTRING (402950.074 2157151.340, 402988.504...</td>\n",
       "    </tr>\n",
       "    <tr>\n",
       "      <th>4</th>\n",
       "      <td>0</td>\n",
       "      <td>LINESTRING (396479.368 2143513.084, 397287.956...</td>\n",
       "    </tr>\n",
       "    <tr>\n",
       "      <th>...</th>\n",
       "      <td>...</td>\n",
       "      <td>...</td>\n",
       "    </tr>\n",
       "    <tr>\n",
       "      <th>103</th>\n",
       "      <td>0</td>\n",
       "      <td>LINESTRING (379000.454 2150866.970, 379013.259...</td>\n",
       "    </tr>\n",
       "    <tr>\n",
       "      <th>104</th>\n",
       "      <td>0</td>\n",
       "      <td>LINESTRING (376300.050 2154416.302, 376414.656...</td>\n",
       "    </tr>\n",
       "    <tr>\n",
       "      <th>105</th>\n",
       "      <td>0</td>\n",
       "      <td>LINESTRING (385411.444 2152428.046, 385577.842...</td>\n",
       "    </tr>\n",
       "    <tr>\n",
       "      <th>106</th>\n",
       "      <td>0</td>\n",
       "      <td>LINESTRING (390066.785 2152354.868, 390158.226...</td>\n",
       "    </tr>\n",
       "    <tr>\n",
       "      <th>107</th>\n",
       "      <td>0</td>\n",
       "      <td>LINESTRING (392215.565 2144559.429, 392148.711...</td>\n",
       "    </tr>\n",
       "  </tbody>\n",
       "</table>\n",
       "<p>108 rows × 2 columns</p>\n",
       "</div>"
      ],
      "text/plain": [
       "     Id                                           geometry\n",
       "0     0  MULTILINESTRING ((399023.854 2160213.443, 3984...\n",
       "1     0  MULTILINESTRING ((395872.926 2160928.195, 3966...\n",
       "2     0  LINESTRING (399693.507 2167447.301, 400279.733...\n",
       "3     0  LINESTRING (402950.074 2157151.340, 402988.504...\n",
       "4     0  LINESTRING (396479.368 2143513.084, 397287.956...\n",
       "..   ..                                                ...\n",
       "103   0  LINESTRING (379000.454 2150866.970, 379013.259...\n",
       "104   0  LINESTRING (376300.050 2154416.302, 376414.656...\n",
       "105   0  LINESTRING (385411.444 2152428.046, 385577.842...\n",
       "106   0  LINESTRING (390066.785 2152354.868, 390158.226...\n",
       "107   0  LINESTRING (392215.565 2144559.429, 392148.711...\n",
       "\n",
       "[108 rows x 2 columns]"
      ]
     },
     "execution_count": 19,
     "metadata": {},
     "output_type": "execute_result"
    }
   ],
   "source": [
    "#import libraries\n",
    "import geopandas as gpd\n",
    "\n",
    "#read a file\n",
    "gdf=gpd.read_file(\"C:\\\\Users\\\\ADMIN\\\\Desktop\\\\ARC GIS 2\\\\Lab 2 - Map manipulation\\\\Data\\\\Akole_roads.shp\")\n",
    "\n",
    "#Display the geodataframe\n",
    "gdf"
   ]
  },
  {
   "cell_type": "markdown",
   "metadata": {},
   "source": [
    "# Displaying Geodata Size"
   ]
  },
  {
   "cell_type": "code",
   "execution_count": 15,
   "metadata": {},
   "outputs": [
    {
     "data": {
      "text/plain": [
       "216"
      ]
     },
     "execution_count": 15,
     "metadata": {},
     "output_type": "execute_result"
    }
   ],
   "source": [
    "#Size: Size will indicate the number of cell values in a gdf\n",
    "import numpy as np\n",
    "gdf.size           "
   ]
  },
  {
   "cell_type": "markdown",
   "metadata": {},
   "source": [
    "# Reading Geodata"
   ]
  },
  {
   "cell_type": "code",
   "execution_count": 17,
   "metadata": {},
   "outputs": [
    {
     "data": {
      "text/plain": [
       "<AxesSubplot:>"
      ]
     },
     "execution_count": 17,
     "metadata": {},
     "output_type": "execute_result"
    },
    {
     "data": {
      "image/png": "[encoded data removed]",
      "text/plain": [
       "<Figure size 432x288 with 1 Axes>"
      ]
     },
     "metadata": {
      "needs_background": "light"
     },
     "output_type": "display_data"
    }
   ],
   "source": [
    "import fiona\n",
    "filename=gpd.datasets.get_path(\"naturalearth_cities\") #file present in geopandas database\n",
    "countries_gdf=gpd.read_file(filename)\n",
    "#display the geodatabase\n",
    "countries_gdf\n",
    "#plot the geodataframe\n",
    "countries_gdf.plot()"
   ]
  },
  {
   "cell_type": "code",
   "execution_count": 18,
   "metadata": {},
   "outputs": [
    {
     "data": {
      "text/plain": [
       "<AxesSubplot:>"
      ]
     },
     "execution_count": 18,
     "metadata": {},
     "output_type": "execute_result"
    },
    {
     "data": {
      "image/png": "[encoded data removed]",
      "text/plain": [
       "<Figure size 432x288 with 1 Axes>"
      ]
     },
     "metadata": {
      "needs_background": "light"
     },
     "output_type": "display_data"
    }
   ],
   "source": [
    "import fiona\n",
    "filename=gpd.datasets.get_path(\"naturalearth_lowres\") #file present in geopandas database\n",
    "countries_gdf=gpd.read_file(filename)\n",
    "#display the geodatabase\n",
    "countries_gdf\n",
    "#plot the geodataframe\n",
    "countries_gdf.plot()\n"
   ]
  },
  {
   "cell_type": "markdown",
   "metadata": {},
   "source": [
    "# Reading a particular geoseries"
   ]
  },
  {
   "cell_type": "code",
   "execution_count": 34,
   "metadata": {},
   "outputs": [
    {
     "data": {
      "image/svg+xml": [
       "<svg xmlns=\"http://www.w3.org/2000/svg\" xmlns:xlink=\"http://www.w3.org/1999/xlink\" width=\"300\" height=\"300\" viewBox=\"402474.12525469426 2157066.3380981083 599.381216211943 2295.058375122957\" preserveAspectRatio=\"xMinYMin meet\"><g transform=\"matrix(1,0,0,-1,0,4316427.73457134)\"><polyline fill=\"none\" stroke=\"#66cc99\" stroke-width=\"15.30038916748638\" points=\"402950.0738070573,2157151.34026015 402988.5043088646,2158188.9638089812 402806.57192050235,2158856.049232974 402559.12741673586,2159276.3943111897\" opacity=\"0.8\" /></g></svg>"
      ],
      "text/plain": [
       "<shapely.geometry.linestring.LineString at 0x117e179b160>"
      ]
     },
     "execution_count": 34,
     "metadata": {},
     "output_type": "execute_result"
    }
   ],
   "source": [
    "#import libraries\n",
    "import geopandas as gpd\n",
    "\n",
    "#read a file\n",
    "gdf=gpd.read_file(\"C:\\\\Users\\\\ADMIN\\\\Desktop\\\\ARC GIS 2\\\\Lab 2 - Map manipulation\\\\Data\\\\Akole_roads.shp\")\n",
    "\n",
    "#Read a particular geoseries\n",
    "gdf.Id[3]    #after gdf. give name of coloumn\n",
    "\n",
    "gdf.geometry[3]\n"
   ]
  },
  {
   "cell_type": "code",
   "execution_count": 35,
   "metadata": {},
   "outputs": [
    {
     "data": {
      "text/plain": [
       "<AxesSubplot:>"
      ]
     },
     "execution_count": 35,
     "metadata": {},
     "output_type": "execute_result"
    },
    {
     "data": {
      "image/png": "[encoded data removed]",
      "text/plain": [
       "<Figure size 432x288 with 1 Axes>"
      ]
     },
     "metadata": {
      "needs_background": "light"
     },
     "output_type": "display_data"
    }
   ],
   "source": [
    "\n",
    "gdf.area.plot()"
   ]
  },
  {
   "cell_type": "code",
   "execution_count": 28,
   "metadata": {},
   "outputs": [
    {
     "data": {
      "text/plain": [
       "<pandas.plotting._core.PlotAccessor object at 0x00000117D9C355A0>"
      ]
     },
     "execution_count": 28,
     "metadata": {},
     "output_type": "execute_result"
    }
   ],
   "source": [
    "import pandas as pd\n",
    "import matplotlib\n",
    "gdf=gpd.read_file(\"C:\\\\Users\\\\ADMIN\\\\Desktop\\\\ARC GIS 2\\\\Lab 3-Vector overlay\\\\Data\")\n",
    "#Displaying geodataframe\n",
    "gdf\n",
    "#plotting the column\n",
    "cl=gdf.geometry\n",
    "#area\n",
    "gdf.area.plot\n",
    "\n"
   ]
  },
  {
   "cell_type": "code",
   "execution_count": 38,
   "metadata": {},
   "outputs": [
    {
     "data": {
      "text/plain": [
       "<AxesSubplot:>"
      ]
     },
     "execution_count": 38,
     "metadata": {},
     "output_type": "execute_result"
    },
    {
     "data": {
      "image/png": "[encoded data removed]",
      "text/plain": [
       "<Figure size 432x288 with 2 Axes>"
      ]
     },
     "metadata": {
      "needs_background": "light"
     },
     "output_type": "display_data"
    }
   ],
   "source": [
    "import fiona\n",
    "filename=gpd.datasets.get_path(\"naturalearth_lowres\") #file present in geopandas database\n",
    "countries_gdf=gpd.read_file(filename)\n",
    "#display the geodatabase\n",
    "countries_gdf\n",
    "#plot the geodataframe\n",
    "countries_gdf.plot(column='pop_est',legend=True)\n"
   ]
  },
  {
   "cell_type": "code",
   "execution_count": 10,
   "metadata": {},
   "outputs": [
    {
     "data": {
      "text/plain": [
       "Index(['LU_CODE', 'geometry'], dtype='object')"
      ]
     },
     "execution_count": 10,
     "metadata": {},
     "output_type": "execute_result"
    },
    {
     "data": {
      "image/png": "[encoded data removed]",
      "text/plain": [
       "<Figure size 432x288 with 1 Axes>"
      ]
     },
     "metadata": {
      "needs_background": "light"
     },
     "output_type": "display_data"
    },
    {
     "data": {
      "image/png": "[encoded data removed]",
      "text/plain": [
       "<Figure size 432x288 with 1 Axes>"
      ]
     },
     "metadata": {
      "needs_background": "light"
     },
     "output_type": "display_data"
    }
   ],
   "source": [
    "#import libraries\n",
    "import geopandas as gpd\n",
    "#read a file\n",
    "gdf=gpd.read_file(\"C:\\\\Users\\\\ADMIN\\\\Desktop\\\\ARC GIS 2\\\\Lab 3-Vector overlay\\\\Data\\\\Kolhapur_LULC.shp\")\n",
    "#display gdf dataframe\n",
    "gdf.plot\n",
    "#read geoseries\n",
    "gdf.geometry\n",
    "#plot column\n",
    "cl=gdf.geometry\n",
    "#Area\n",
    "gdf.area.plot()\n",
    "\n",
    "\n",
    "#centroid\n",
    "gdf.centroid.plot()\n",
    "\n",
    "#Basic Attribute\n",
    "gdf.size\n",
    "#show columns\n",
    "gdf.columns\n"
   ]
  },
  {
   "cell_type": "code",
   "execution_count": 20,
   "metadata": {},
   "outputs": [
    {
     "name": "stderr",
     "output_type": "stream",
     "text": [
      "C:\\Users\\ADMIN\\AppData\\Local\\Temp\\ipykernel_16612\\981980744.py:12: UserWarning: Geometry is in a geographic CRS. Results from 'area' are likely incorrect. Use 'GeoSeries.to_crs()' to re-project geometries to a projected CRS before this operation.\n",
      "\n",
      "  gdf.area.plot()\n",
      "C:\\Users\\ADMIN\\AppData\\Local\\Temp\\ipykernel_16612\\981980744.py:20: UserWarning: Geometry is in a geographic CRS. Results from 'centroid' are likely incorrect. Use 'GeoSeries.to_crs()' to re-project geometries to a projected CRS before this operation.\n",
      "\n",
      "  gdf.centroid.plot()\n",
      "C:\\Users\\ADMIN\\AppData\\Local\\Temp\\ipykernel_16612\\981980744.py:31: UserWarning: Geometry is in a geographic CRS. Results from 'area' are likely incorrect. Use 'GeoSeries.to_crs()' to re-project geometries to a projected CRS before this operation.\n",
      "\n",
      "  gdf[\"Area\"]=gdf.area\n"
     ]
    },
    {
     "data": {
      "text/html": [
       "<div>\n",
       "<style scoped>\n",
       "    .dataframe tbody tr th:only-of-type {\n",
       "        vertical-align: middle;\n",
       "    }\n",
       "\n",
       "    .dataframe tbody tr th {\n",
       "        vertical-align: top;\n",
       "    }\n",
       "\n",
       "    .dataframe thead th {\n",
       "        text-align: right;\n",
       "    }\n",
       "</style>\n",
       "<table border=\"1\" class=\"dataframe\">\n",
       "  <thead>\n",
       "    <tr style=\"text-align: right;\">\n",
       "      <th></th>\n",
       "      <th>ID_0</th>\n",
       "      <th>ISO</th>\n",
       "      <th>NAME_0</th>\n",
       "      <th>ID_1</th>\n",
       "      <th>NAME_1</th>\n",
       "      <th>ID_2</th>\n",
       "      <th>ID_3</th>\n",
       "      <th>NAME_3</th>\n",
       "      <th>TYPE_3</th>\n",
       "      <th>ENGTYPE_3</th>\n",
       "      <th>NL_NAME_3</th>\n",
       "      <th>VARNAME_3</th>\n",
       "      <th>geometry</th>\n",
       "      <th>Name_2Boundary</th>\n",
       "      <th>Area</th>\n",
       "    </tr>\n",
       "    <tr>\n",
       "      <th>NAME_2</th>\n",
       "      <th></th>\n",
       "      <th></th>\n",
       "      <th></th>\n",
       "      <th></th>\n",
       "      <th></th>\n",
       "      <th></th>\n",
       "      <th></th>\n",
       "      <th></th>\n",
       "      <th></th>\n",
       "      <th></th>\n",
       "      <th></th>\n",
       "      <th></th>\n",
       "      <th></th>\n",
       "      <th></th>\n",
       "      <th></th>\n",
       "    </tr>\n",
       "  </thead>\n",
       "  <tbody>\n",
       "    <tr>\n",
       "      <th>Andaman Islands</th>\n",
       "      <td>105</td>\n",
       "      <td>IND</td>\n",
       "      <td>India</td>\n",
       "      <td>1</td>\n",
       "      <td>Andaman and Nicobar</td>\n",
       "      <td>1</td>\n",
       "      <td>1</td>\n",
       "      <td>n.a. ( 2178)</td>\n",
       "      <td>Taluk</td>\n",
       "      <td>Taluk</td>\n",
       "      <td>None</td>\n",
       "      <td>None</td>\n",
       "      <td>MULTIPOLYGON (((93.64841 14.93487, 93.64917 14...</td>\n",
       "      <td>MULTILINESTRING ((93.64841 14.93487, 93.64917 ...</td>\n",
       "      <td>0.489002</td>\n",
       "    </tr>\n",
       "    <tr>\n",
       "      <th>Nicobar Islands</th>\n",
       "      <td>105</td>\n",
       "      <td>IND</td>\n",
       "      <td>India</td>\n",
       "      <td>1</td>\n",
       "      <td>Andaman and Nicobar</td>\n",
       "      <td>2</td>\n",
       "      <td>2</td>\n",
       "      <td>n.a. ( 2304)</td>\n",
       "      <td>Taluk</td>\n",
       "      <td>Taluk</td>\n",
       "      <td>None</td>\n",
       "      <td>None</td>\n",
       "      <td>MULTIPOLYGON (((92.78778 9.24417, 92.78889 9.2...</td>\n",
       "      <td>MULTILINESTRING ((92.78778 9.24417, 92.78889 9...</td>\n",
       "      <td>0.141483</td>\n",
       "    </tr>\n",
       "    <tr>\n",
       "      <th>Anantapur</th>\n",
       "      <td>105</td>\n",
       "      <td>IND</td>\n",
       "      <td>India</td>\n",
       "      <td>2</td>\n",
       "      <td>Andhra Pradesh</td>\n",
       "      <td>3</td>\n",
       "      <td>3</td>\n",
       "      <td>Anantapur</td>\n",
       "      <td>Taluk</td>\n",
       "      <td>Taluk</td>\n",
       "      <td>None</td>\n",
       "      <td>None</td>\n",
       "      <td>POLYGON ((77.35452 14.52155, 77.34958 14.52136...</td>\n",
       "      <td>LINESTRING (77.35452 14.52155, 77.34958 14.521...</td>\n",
       "      <td>0.201223</td>\n",
       "    </tr>\n",
       "    <tr>\n",
       "      <th>Anantapur</th>\n",
       "      <td>105</td>\n",
       "      <td>IND</td>\n",
       "      <td>India</td>\n",
       "      <td>2</td>\n",
       "      <td>Andhra Pradesh</td>\n",
       "      <td>3</td>\n",
       "      <td>4</td>\n",
       "      <td>Dharmavaram</td>\n",
       "      <td>Taluk</td>\n",
       "      <td>Taluk</td>\n",
       "      <td>None</td>\n",
       "      <td>None</td>\n",
       "      <td>POLYGON ((77.35341 14.27068, 77.35244 14.28055...</td>\n",
       "      <td>LINESTRING (77.35341 14.27068, 77.35244 14.280...</td>\n",
       "      <td>0.158617</td>\n",
       "    </tr>\n",
       "    <tr>\n",
       "      <th>Anantapur</th>\n",
       "      <td>105</td>\n",
       "      <td>IND</td>\n",
       "      <td>India</td>\n",
       "      <td>2</td>\n",
       "      <td>Andhra Pradesh</td>\n",
       "      <td>3</td>\n",
       "      <td>5</td>\n",
       "      <td>Gooty</td>\n",
       "      <td>Taluk</td>\n",
       "      <td>Taluk</td>\n",
       "      <td>None</td>\n",
       "      <td>None</td>\n",
       "      <td>POLYGON ((77.77217 15.10376, 77.77106 15.09759...</td>\n",
       "      <td>LINESTRING (77.77217 15.10376, 77.77106 15.097...</td>\n",
       "      <td>0.194733</td>\n",
       "    </tr>\n",
       "    <tr>\n",
       "      <th>...</th>\n",
       "      <td>...</td>\n",
       "      <td>...</td>\n",
       "      <td>...</td>\n",
       "      <td>...</td>\n",
       "      <td>...</td>\n",
       "      <td>...</td>\n",
       "      <td>...</td>\n",
       "      <td>...</td>\n",
       "      <td>...</td>\n",
       "      <td>...</td>\n",
       "      <td>...</td>\n",
       "      <td>...</td>\n",
       "      <td>...</td>\n",
       "      <td>...</td>\n",
       "      <td>...</td>\n",
       "    </tr>\n",
       "    <tr>\n",
       "      <th>Uttar Dinajpur</th>\n",
       "      <td>105</td>\n",
       "      <td>IND</td>\n",
       "      <td>India</td>\n",
       "      <td>36</td>\n",
       "      <td>West Bengal</td>\n",
       "      <td>593</td>\n",
       "      <td>2295</td>\n",
       "      <td>Islampur</td>\n",
       "      <td>Taluk</td>\n",
       "      <td>Taluk</td>\n",
       "      <td>None</td>\n",
       "      <td>None</td>\n",
       "      <td>POLYGON ((87.81787 25.93302, 87.82351 25.93135...</td>\n",
       "      <td>LINESTRING (87.81787 25.93302, 87.82351 25.931...</td>\n",
       "      <td>0.168095</td>\n",
       "    </tr>\n",
       "    <tr>\n",
       "      <th>Uttar Dinajpur</th>\n",
       "      <td>105</td>\n",
       "      <td>IND</td>\n",
       "      <td>India</td>\n",
       "      <td>36</td>\n",
       "      <td>West Bengal</td>\n",
       "      <td>593</td>\n",
       "      <td>2296</td>\n",
       "      <td>Raiganj</td>\n",
       "      <td>Taluk</td>\n",
       "      <td>Taluk</td>\n",
       "      <td>None</td>\n",
       "      <td>None</td>\n",
       "      <td>MULTIPOLYGON (((88.03220 25.69647, 88.03764 25...</td>\n",
       "      <td>MULTILINESTRING ((88.03220 25.69647, 88.03764 ...</td>\n",
       "      <td>0.134613</td>\n",
       "    </tr>\n",
       "    <tr>\n",
       "      <th>West Midnapore</th>\n",
       "      <td>105</td>\n",
       "      <td>IND</td>\n",
       "      <td>India</td>\n",
       "      <td>36</td>\n",
       "      <td>West Bengal</td>\n",
       "      <td>594</td>\n",
       "      <td>2297</td>\n",
       "      <td>Ghatal</td>\n",
       "      <td>Taluk</td>\n",
       "      <td>Taluk</td>\n",
       "      <td>None</td>\n",
       "      <td>None</td>\n",
       "      <td>POLYGON ((87.69002 22.50533, 87.66451 22.52070...</td>\n",
       "      <td>LINESTRING (87.69002 22.50533, 87.66451 22.520...</td>\n",
       "      <td>0.084430</td>\n",
       "    </tr>\n",
       "    <tr>\n",
       "      <th>West Midnapore</th>\n",
       "      <td>105</td>\n",
       "      <td>IND</td>\n",
       "      <td>India</td>\n",
       "      <td>36</td>\n",
       "      <td>West Bengal</td>\n",
       "      <td>594</td>\n",
       "      <td>2298</td>\n",
       "      <td>Jhargram</td>\n",
       "      <td>Taluk</td>\n",
       "      <td>Taluk</td>\n",
       "      <td>None</td>\n",
       "      <td>None</td>\n",
       "      <td>POLYGON ((87.07253 22.72494, 87.07639 22.72033...</td>\n",
       "      <td>LINESTRING (87.07253 22.72494, 87.07639 22.720...</td>\n",
       "      <td>0.271821</td>\n",
       "    </tr>\n",
       "    <tr>\n",
       "      <th>West Midnapore</th>\n",
       "      <td>105</td>\n",
       "      <td>IND</td>\n",
       "      <td>India</td>\n",
       "      <td>36</td>\n",
       "      <td>West Bengal</td>\n",
       "      <td>594</td>\n",
       "      <td>2299</td>\n",
       "      <td>Medinipur</td>\n",
       "      <td>Taluk</td>\n",
       "      <td>Taluk</td>\n",
       "      <td>None</td>\n",
       "      <td>None</td>\n",
       "      <td>POLYGON ((87.07253 22.72494, 87.08266 22.73479...</td>\n",
       "      <td>LINESTRING (87.07253 22.72494, 87.08266 22.734...</td>\n",
       "      <td>0.468231</td>\n",
       "    </tr>\n",
       "  </tbody>\n",
       "</table>\n",
       "<p>2299 rows × 15 columns</p>\n",
       "</div>"
      ],
      "text/plain": [
       "                 ID_0  ISO NAME_0  ID_1               NAME_1  ID_2  ID_3  \\\n",
       "NAME_2                                                                     \n",
       "Andaman Islands   105  IND  India     1  Andaman and Nicobar     1     1   \n",
       "Nicobar Islands   105  IND  India     1  Andaman and Nicobar     2     2   \n",
       "Anantapur         105  IND  India     2       Andhra Pradesh     3     3   \n",
       "Anantapur         105  IND  India     2       Andhra Pradesh     3     4   \n",
       "Anantapur         105  IND  India     2       Andhra Pradesh     3     5   \n",
       "...               ...  ...    ...   ...                  ...   ...   ...   \n",
       "Uttar Dinajpur    105  IND  India    36          West Bengal   593  2295   \n",
       "Uttar Dinajpur    105  IND  India    36          West Bengal   593  2296   \n",
       "West Midnapore    105  IND  India    36          West Bengal   594  2297   \n",
       "West Midnapore    105  IND  India    36          West Bengal   594  2298   \n",
       "West Midnapore    105  IND  India    36          West Bengal   594  2299   \n",
       "\n",
       "                       NAME_3 TYPE_3 ENGTYPE_3 NL_NAME_3 VARNAME_3  \\\n",
       "NAME_2                                                               \n",
       "Andaman Islands  n.a. ( 2178)  Taluk     Taluk      None      None   \n",
       "Nicobar Islands  n.a. ( 2304)  Taluk     Taluk      None      None   \n",
       "Anantapur           Anantapur  Taluk     Taluk      None      None   \n",
       "Anantapur         Dharmavaram  Taluk     Taluk      None      None   \n",
       "Anantapur               Gooty  Taluk     Taluk      None      None   \n",
       "...                       ...    ...       ...       ...       ...   \n",
       "Uttar Dinajpur       Islampur  Taluk     Taluk      None      None   \n",
       "Uttar Dinajpur        Raiganj  Taluk     Taluk      None      None   \n",
       "West Midnapore         Ghatal  Taluk     Taluk      None      None   \n",
       "West Midnapore       Jhargram  Taluk     Taluk      None      None   \n",
       "West Midnapore      Medinipur  Taluk     Taluk      None      None   \n",
       "\n",
       "                                                          geometry  \\\n",
       "NAME_2                                                               \n",
       "Andaman Islands  MULTIPOLYGON (((93.64841 14.93487, 93.64917 14...   \n",
       "Nicobar Islands  MULTIPOLYGON (((92.78778 9.24417, 92.78889 9.2...   \n",
       "Anantapur        POLYGON ((77.35452 14.52155, 77.34958 14.52136...   \n",
       "Anantapur        POLYGON ((77.35341 14.27068, 77.35244 14.28055...   \n",
       "Anantapur        POLYGON ((77.77217 15.10376, 77.77106 15.09759...   \n",
       "...                                                            ...   \n",
       "Uttar Dinajpur   POLYGON ((87.81787 25.93302, 87.82351 25.93135...   \n",
       "Uttar Dinajpur   MULTIPOLYGON (((88.03220 25.69647, 88.03764 25...   \n",
       "West Midnapore   POLYGON ((87.69002 22.50533, 87.66451 22.52070...   \n",
       "West Midnapore   POLYGON ((87.07253 22.72494, 87.07639 22.72033...   \n",
       "West Midnapore   POLYGON ((87.07253 22.72494, 87.08266 22.73479...   \n",
       "\n",
       "                                                    Name_2Boundary      Area  \n",
       "NAME_2                                                                        \n",
       "Andaman Islands  MULTILINESTRING ((93.64841 14.93487, 93.64917 ...  0.489002  \n",
       "Nicobar Islands  MULTILINESTRING ((92.78778 9.24417, 92.78889 9...  0.141483  \n",
       "Anantapur        LINESTRING (77.35452 14.52155, 77.34958 14.521...  0.201223  \n",
       "Anantapur        LINESTRING (77.35341 14.27068, 77.35244 14.280...  0.158617  \n",
       "Anantapur        LINESTRING (77.77217 15.10376, 77.77106 15.097...  0.194733  \n",
       "...                                                            ...       ...  \n",
       "Uttar Dinajpur   LINESTRING (87.81787 25.93302, 87.82351 25.931...  0.168095  \n",
       "Uttar Dinajpur   MULTILINESTRING ((88.03220 25.69647, 88.03764 ...  0.134613  \n",
       "West Midnapore   LINESTRING (87.69002 22.50533, 87.66451 22.520...  0.084430  \n",
       "West Midnapore   LINESTRING (87.07253 22.72494, 87.07639 22.720...  0.271821  \n",
       "West Midnapore   LINESTRING (87.07253 22.72494, 87.08266 22.734...  0.468231  \n",
       "\n",
       "[2299 rows x 15 columns]"
      ]
     },
     "execution_count": 20,
     "metadata": {},
     "output_type": "execute_result"
    },
    {
     "data": {
      "image/png": "[encoded data removed]",
      "text/plain": [
       "<Figure size 432x288 with 1 Axes>"
      ]
     },
     "metadata": {
      "needs_background": "light"
     },
     "output_type": "display_data"
    },
    {
     "data": {
      "image/png": "[encoded data removed]",
      "text/plain": [
       "<Figure size 432x288 with 1 Axes>"
      ]
     },
     "metadata": {
      "needs_background": "light"
     },
     "output_type": "display_data"
    },
    {
     "data": {
      "image/png": "[encoded data removed]",
      "text/plain": [
       "<Figure size 432x288 with 1 Axes>"
      ]
     },
     "metadata": {
      "needs_background": "light"
     },
     "output_type": "display_data"
    }
   ],
   "source": [
    "\n",
    "#import libraries\n",
    "import geopandas as gpd\n",
    "#read a file\n",
    "gdf=gpd.read_file(\"C:\\\\Users\\\\ADMIN\\\\Desktop\\\\ARC GIS 2\\\\Extract by mask\\\\IND_adm\\\\IND_adm3.shp\")\n",
    "#display gdf dataframe\n",
    "gdf.plot\n",
    "#read geoseries\n",
    "gdf.geometry\n",
    "#plot column\n",
    "cl=gdf.geometry\n",
    "#Area\n",
    "gdf.area.plot()\n",
    "\n",
    "gdf[\"Name_2Boundary\"]=gdf.boundary\n",
    "gdf\n",
    "gdf[\"Name_2Boundary\"].plot()\n",
    "gdf\n",
    "\n",
    "#centroid\n",
    "gdf.centroid.plot()\n",
    "\n",
    "#Basic Attribute\n",
    "gdf.size\n",
    "#show columns\n",
    "gdf.columns\n",
    "#grouping\n",
    "gdf=gdf.set_index(\"NAME_2\")\n",
    "gdf\n",
    "\n",
    "#area\n",
    "gdf[\"Area\"]=gdf.area\n",
    "gdf\n",
    "\n",
    "\n"
   ]
  },
  {
   "cell_type": "code",
   "execution_count": null,
   "metadata": {},
   "outputs": [],
   "source": []
  },
  {
   "cell_type": "code",
   "execution_count": null,
   "metadata": {},
   "outputs": [],
   "source": []
  }
 ],
 "metadata": {
  "kernelspec": {
   "display_name": "geo_env",
   "language": "python",
   "name": "geo_env"
  },
  "language_info": {
   "codemirror_mode": {
    "name": "ipython",
    "version": 3
   },
   "file_extension": ".py",
   "mimetype": "text/x-python",
   "name": "python",
   "nbconvert_exporter": "python",
   "pygments_lexer": "ipython3",
   "version": "3.10.4"
  }
 },
 "nbformat": 4,
 "nbformat_minor": 5
}
